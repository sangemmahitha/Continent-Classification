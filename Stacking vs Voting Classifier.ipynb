{
 "cells": [
  {
   "cell_type": "code",
   "execution_count": 1,
   "id": "e0c31027",
   "metadata": {},
   "outputs": [],
   "source": [
    "import pandas as pd\n",
    "import pandas as pd\n",
    "import numpy as np \n",
    "import matplotlib.pyplot as plt\n",
    "import seaborn as sns\n",
    "import pickle\n",
    "from imblearn.pipeline import Pipeline\n",
    "from imblearn.over_sampling import ADASYN\n",
    "from sklearn.ensemble import GradientBoostingClassifier,StackingClassifier,AdaBoostClassifier,RandomForestClassifier,VotingClassifier\n",
    "from sklearn.neighbors import KNeighborsClassifier\n",
    "from sklearn.svm import SVC\n",
    "from sklearn.ensemble import RandomForestClassifier\n",
    "from sklearn.tree import DecisionTreeClassifier\n",
    "from sklearn.decomposition import PCA\n",
    "from sklearn.metrics import classification_report, confusion_matrix, accuracy_score, plot_confusion_matrix,f1_score,precision_score,recall_score,RocCurveDisplay,PrecisionRecallDisplay\n",
    "from sklearn.model_selection import train_test_split\n",
    "rs = 0"
   ]
  },
  {
   "cell_type": "code",
   "execution_count": 2,
   "id": "119294f2",
   "metadata": {},
   "outputs": [],
   "source": [
    "#To prevent warnings being displayed\n",
    "import sys\n",
    "import warnings\n",
    "if not sys.warnoptions:\n",
    "    warnings.simplefilter(\"ignore\") #ignoring the warnings"
   ]
  },
  {
   "cell_type": "code",
   "execution_count": 3,
   "id": "6c62ccfb",
   "metadata": {},
   "outputs": [],
   "source": [
    "#Splitting the dataset into train dataset and test dataset\n",
    "data_df = pd.read_csv(\"data_df.csv\")\n",
    "data_df_features = data_df.drop(columns=[\"class\",\"unique_id\"]) #Extracting Features\n",
    "data_df_class = data_df[[\"class\"]] #Saving only Class labels\n",
    "\n",
    "X_train, X_test, y_train, y_test = train_test_split(data_df_features, data_df_class, test_size=0.20, random_state=rs, stratify = data_df_class)"
   ]
  },
  {
   "cell_type": "code",
   "execution_count": 4,
   "id": "bc16c89d",
   "metadata": {},
   "outputs": [],
   "source": [
    "#Function to obtain different metrics based on predicted class labels\n",
    "def print_metrics(y_test,y_pred,name):\n",
    "    cm = confusion_matrix(y_test, y_pred) #Computing the Confusion Matrix\n",
    "    sns.heatmap(cm, annot=True, fmt=\"d\", cmap=\"Blues\") #Initializing the Heatmap\n",
    "    plt.xlabel(\"Predicted Labels\") #Setting x label\n",
    "    plt.ylabel(\"Actual Labels\") #Setting y label\n",
    "    plt.title(\"Confusion Matrix Obtained\") #Setting the title\n",
    "    plt.show(); #Showing the plot\n",
    "    f1_value = round(f1_score(y_test,y_pred,labels=np.unique(y_pred),average='macro'),4) #Calculating F1-score value\n",
    "    prec = round(precision_score(y_test,y_pred,labels=np.unique(y_pred),average='macro'),4) #Calculating Precision value\n",
    "    rec = round(recall_score(y_test,y_pred,labels=np.unique(y_pred),average='macro'),4) #Calculating Recall value\n",
    "    print(\"F1-score obtained is \",f1_value) #Printing F1-score value\n",
    "    print(\"Precision obtained is \",prec) #Printing Precision value\n",
    "    print(\"Recall obtained is \",rec) #Printing Recall value\n",
    "    print(\"Classification Report obtained is :\")\n",
    "    print(classification_report(y_test, y_pred))\n",
    "    return [f1_value,prec,rec] #return f1-score, precision and recall"
   ]
  },
  {
   "cell_type": "code",
   "execution_count": 5,
   "id": "84f42d38",
   "metadata": {},
   "outputs": [],
   "source": [
    "best_results_table = []"
   ]
  },
  {
   "cell_type": "code",
   "execution_count": 6,
   "id": "5877c5c2",
   "metadata": {},
   "outputs": [
    {
     "data": {
      "image/png": "[encoded data removed]",
      "text/plain": [
       "<Figure size 432x288 with 2 Axes>"
      ]
     },
     "metadata": {
      "needs_background": "light"
     },
     "output_type": "display_data"
    },
    {
     "name": "stdout",
     "output_type": "stream",
     "text": [
      "F1-score obtained is  0.4468\n",
      "Precision obtained is  0.5363\n",
      "Recall obtained is  0.4164\n",
      "Classification Report obtained is :\n",
      "              precision    recall  f1-score   support\n",
      "\n",
      "           0       0.51      0.62      0.56        32\n",
      "           1       0.27      0.27      0.27        11\n",
      "           2       1.00      0.40      0.57         5\n",
      "           3       0.33      0.38      0.35        16\n",
      "           4       0.56      0.41      0.47        22\n",
      "\n",
      "    accuracy                           0.47        86\n",
      "   macro avg       0.54      0.42      0.45        86\n",
      "weighted avg       0.49      0.47      0.46        86\n",
      "\n"
     ]
    }
   ],
   "source": [
    "dt = DecisionTreeClassifier(criterion='entropy', max_depth=5, min_samples_leaf=10, random_state=0)\n",
    "pca = PCA(n_components=102,random_state=rs)\n",
    "dt_pca_pipeline = Pipeline([('pca', pca), ('dt', dt)])\n",
    "dt_pca_pipeline.fit(X_train,y_train)\n",
    "dt_pca_pipeline_yPred = dt_pca_pipeline.predict(X_test)\n",
    "dt_list = [\"Decision Tree - After Hyperparameter Tuning and Feature Selection based on PCA\"]\n",
    "dt_list.extend(print_metrics(y_test, dt_pca_pipeline_yPred,\"Decision Tree - PCA\"))\n",
    "best_results_table.append(dt_list)"
   ]
  },
  {
   "cell_type": "code",
   "execution_count": 7,
   "id": "6eebdbf4",
   "metadata": {},
   "outputs": [
    {
     "data": {
      "image/png": "[encoded data removed]",
      "text/plain": [
       "<Figure size 432x288 with 2 Axes>"
      ]
     },
     "metadata": {
      "needs_background": "light"
     },
     "output_type": "display_data"
    },
    {
     "name": "stdout",
     "output_type": "stream",
     "text": [
      "F1-score obtained is  0.464\n",
      "Precision obtained is  0.4562\n",
      "Recall obtained is  0.5174\n",
      "Classification Report obtained is :\n",
      "              precision    recall  f1-score   support\n",
      "\n",
      "           0       0.58      0.47      0.52        32\n",
      "           1       0.44      0.36      0.40        11\n",
      "           2       0.33      0.80      0.47         5\n",
      "           3       0.40      0.50      0.44        16\n",
      "           4       0.53      0.45      0.49        22\n",
      "\n",
      "    accuracy                           0.48        86\n",
      "   macro avg       0.46      0.52      0.46        86\n",
      "weighted avg       0.50      0.48      0.48        86\n",
      "\n"
     ]
    }
   ],
   "source": [
    "knn_pca_pipeline = Pipeline(steps=[('adasyn', ADASYN(random_state=0)),('pca' , PCA(n_components=227,random_state=rs)),\n",
    "                ('knn',KNeighborsClassifier(n_neighbors=1))])\n",
    "knn_pca_pipeline.fit(X_train,y_train)\n",
    "knn_pca_pipeline_yPred = knn_pca_pipeline.predict(X_test)\n",
    "knn_list = [\"KNN ADASYN- After Hyperparameter Tuning and Feature Selection based on PCA\"]\n",
    "knn_list.extend(print_metrics(y_test, knn_pca_pipeline_yPred,\"KNN - PCA\"))\n",
    "best_results_table.append(knn_list)"
   ]
  },
  {
   "cell_type": "code",
   "execution_count": 8,
   "id": "913d6f41",
   "metadata": {},
   "outputs": [
    {
     "data": {
      "image/png": "[encoded data removed]",
      "text/plain": [
       "<Figure size 432x288 with 2 Axes>"
      ]
     },
     "metadata": {
      "needs_background": "light"
     },
     "output_type": "display_data"
    },
    {
     "name": "stdout",
     "output_type": "stream",
     "text": [
      "F1-score obtained is  0.5716\n",
      "Precision obtained is  0.5825\n",
      "Recall obtained is  0.5657\n",
      "Classification Report obtained is :\n",
      "              precision    recall  f1-score   support\n",
      "\n",
      "           0       0.58      0.69      0.63        32\n",
      "           1       0.60      0.55      0.57        11\n",
      "           2       0.80      0.80      0.80         5\n",
      "           3       0.27      0.25      0.26        16\n",
      "           4       0.67      0.55      0.60        22\n",
      "\n",
      "    accuracy                           0.56        86\n",
      "   macro avg       0.58      0.57      0.57        86\n",
      "weighted avg       0.56      0.56      0.55        86\n",
      "\n"
     ]
    }
   ],
   "source": [
    "rf_pca_pipeline = Pipeline(steps=[('adasyn', ADASYN(random_state=0)),('pca',PCA(n_components=48,random_state=rs)),\n",
    "                ('rf', RandomForestClassifier(max_depth=15, random_state=0))])\n",
    "rf_pca_pipeline.fit(X_train,y_train)\n",
    "rf_pca_pipeline_yPred = rf_pca_pipeline.predict(X_test)\n",
    "rf_list = [\"RF ADASYN- After Hyperparameter Tuning and Feature Selection based on PCA\"]\n",
    "rf_list.extend(print_metrics(y_test, rf_pca_pipeline_yPred,\"RF - PCA\"))\n",
    "best_results_table.append(rf_list)"
   ]
  },
  {
   "cell_type": "code",
   "execution_count": 9,
   "id": "35793301",
   "metadata": {},
   "outputs": [
    {
     "data": {
      "image/png": "[encoded data removed]",
      "text/plain": [
       "<Figure size 432x288 with 2 Axes>"
      ]
     },
     "metadata": {
      "needs_background": "light"
     },
     "output_type": "display_data"
    },
    {
     "name": "stdout",
     "output_type": "stream",
     "text": [
      "F1-score obtained is  0.5255\n",
      "Precision obtained is  0.5571\n",
      "Recall obtained is  0.5183\n",
      "Classification Report obtained is :\n",
      "              precision    recall  f1-score   support\n",
      "\n",
      "           0       0.56      0.78      0.65        32\n",
      "           1       0.62      0.45      0.53        11\n",
      "           2       0.60      0.60      0.60         5\n",
      "           3       0.47      0.44      0.45        16\n",
      "           4       0.54      0.32      0.40        22\n",
      "\n",
      "    accuracy                           0.55        86\n",
      "   macro avg       0.56      0.52      0.53        86\n",
      "weighted avg       0.55      0.55      0.53        86\n",
      "\n"
     ]
    }
   ],
   "source": [
    "svm = SVC(C=29.763514416313132, random_state=0)\n",
    "pca = PCA(n_components=76,random_state=rs)\n",
    "\n",
    "svm_pca_pipeline = Pipeline([('pca', pca), ('svm', svm)])\n",
    "svm_pca_pipeline.fit(X_train,y_train)\n",
    "svm_pca_pipeline_yPred = svm_pca_pipeline.predict(X_test)\n",
    "svm_list = [\"SVM - After Hyperparameter Tuning and Feature Selection based on PCA\"]\n",
    "svm_list.extend(print_metrics(y_test, svm_pca_pipeline_yPred,\"SVM - PCA\"))\n",
    "best_results_table.append(svm_list)"
   ]
  },
  {
   "cell_type": "code",
   "execution_count": 10,
   "id": "5e1521fb",
   "metadata": {},
   "outputs": [
    {
     "data": {
      "text/plain": [
       "[['Decision Tree - After Hyperparameter Tuning and Feature Selection based on PCA',\n",
       "  0.4468,\n",
       "  0.5363,\n",
       "  0.4164],\n",
       " ['KNN ADASYN- After Hyperparameter Tuning and Feature Selection based on PCA',\n",
       "  0.464,\n",
       "  0.4562,\n",
       "  0.5174],\n",
       " ['RF ADASYN- After Hyperparameter Tuning and Feature Selection based on PCA',\n",
       "  0.5716,\n",
       "  0.5825,\n",
       "  0.5657],\n",
       " ['SVM - After Hyperparameter Tuning and Feature Selection based on PCA',\n",
       "  0.5255,\n",
       "  0.5571,\n",
       "  0.5183]]"
      ]
     },
     "execution_count": 10,
     "metadata": {},
     "output_type": "execute_result"
    }
   ],
   "source": [
    "best_results_table"
   ]
  },
  {
   "cell_type": "code",
   "execution_count": 11,
   "id": "f8470222",
   "metadata": {},
   "outputs": [
    {
     "data": {
      "text/html": [
       "<style type=\"text/css\">\n",
       "#T_07774_row0_col1, #T_07774_row0_col3, #T_07774_row1_col2 {\n",
       "  background-color: #f7fbff;\n",
       "  color: #000000;\n",
       "}\n",
       "#T_07774_row0_col2 {\n",
       "  background-color: #3f8fc5;\n",
       "  color: #f1f1f1;\n",
       "}\n",
       "#T_07774_row1_col1 {\n",
       "  background-color: #dce9f6;\n",
       "  color: #000000;\n",
       "}\n",
       "#T_07774_row1_col3 {\n",
       "  background-color: #3484bf;\n",
       "  color: #f1f1f1;\n",
       "}\n",
       "#T_07774_row2_col1, #T_07774_row2_col2, #T_07774_row2_col3 {\n",
       "  background-color: #08306b;\n",
       "  color: #f1f1f1;\n",
       "}\n",
       "#T_07774_row3_col1 {\n",
       "  background-color: #4090c5;\n",
       "  color: #f1f1f1;\n",
       "}\n",
       "#T_07774_row3_col2 {\n",
       "  background-color: #1764ab;\n",
       "  color: #f1f1f1;\n",
       "}\n",
       "#T_07774_row3_col3 {\n",
       "  background-color: #3383be;\n",
       "  color: #f1f1f1;\n",
       "}\n",
       "</style>\n",
       "<table id=\"T_07774_\">\n",
       "  <thead>\n",
       "    <tr>\n",
       "      <th class=\"blank level0\" >&nbsp;</th>\n",
       "      <th class=\"col_heading level0 col0\" >Classifier</th>\n",
       "      <th class=\"col_heading level0 col1\" >f1-score</th>\n",
       "      <th class=\"col_heading level0 col2\" >Precision</th>\n",
       "      <th class=\"col_heading level0 col3\" >Recall</th>\n",
       "    </tr>\n",
       "  </thead>\n",
       "  <tbody>\n",
       "    <tr>\n",
       "      <th id=\"T_07774_level0_row0\" class=\"row_heading level0 row0\" >0</th>\n",
       "      <td id=\"T_07774_row0_col0\" class=\"data row0 col0\" >Decision Tree - After Hyperparameter Tuning and Feature Selection based on PCA</td>\n",
       "      <td id=\"T_07774_row0_col1\" class=\"data row0 col1\" >0.4468</td>\n",
       "      <td id=\"T_07774_row0_col2\" class=\"data row0 col2\" >0.5363</td>\n",
       "      <td id=\"T_07774_row0_col3\" class=\"data row0 col3\" >0.4164</td>\n",
       "    </tr>\n",
       "    <tr>\n",
       "      <th id=\"T_07774_level0_row1\" class=\"row_heading level0 row1\" >1</th>\n",
       "      <td id=\"T_07774_row1_col0\" class=\"data row1 col0\" >KNN ADASYN- After Hyperparameter Tuning and Feature Selection based on PCA</td>\n",
       "      <td id=\"T_07774_row1_col1\" class=\"data row1 col1\" >0.4640</td>\n",
       "      <td id=\"T_07774_row1_col2\" class=\"data row1 col2\" >0.4562</td>\n",
       "      <td id=\"T_07774_row1_col3\" class=\"data row1 col3\" >0.5174</td>\n",
       "    </tr>\n",
       "    <tr>\n",
       "      <th id=\"T_07774_level0_row2\" class=\"row_heading level0 row2\" >2</th>\n",
       "      <td id=\"T_07774_row2_col0\" class=\"data row2 col0\" >RF ADASYN- After Hyperparameter Tuning and Feature Selection based on PCA</td>\n",
       "      <td id=\"T_07774_row2_col1\" class=\"data row2 col1\" >0.5716</td>\n",
       "      <td id=\"T_07774_row2_col2\" class=\"data row2 col2\" >0.5825</td>\n",
       "      <td id=\"T_07774_row2_col3\" class=\"data row2 col3\" >0.5657</td>\n",
       "    </tr>\n",
       "    <tr>\n",
       "      <th id=\"T_07774_level0_row3\" class=\"row_heading level0 row3\" >3</th>\n",
       "      <td id=\"T_07774_row3_col0\" class=\"data row3 col0\" >SVM - After Hyperparameter Tuning and Feature Selection based on PCA</td>\n",
       "      <td id=\"T_07774_row3_col1\" class=\"data row3 col1\" >0.5255</td>\n",
       "      <td id=\"T_07774_row3_col2\" class=\"data row3 col2\" >0.5571</td>\n",
       "      <td id=\"T_07774_row3_col3\" class=\"data row3 col3\" >0.5183</td>\n",
       "    </tr>\n",
       "  </tbody>\n",
       "</table>\n"
      ],
      "text/plain": [
       "<pandas.io.formats.style.Styler at 0x225dc18fc70>"
      ]
     },
     "execution_count": 11,
     "metadata": {},
     "output_type": "execute_result"
    }
   ],
   "source": [
    "#Tabulating the obtained results and displaying the results by formatting\n",
    "results_df = pd.DataFrame(best_results_table,columns = [\"Classifier\",\"f1-score\",\"Precision\",\"Recall\"])\n",
    "with pd.option_context('display.precision', 4):\n",
    "    formatted_table=(results_df.style.background_gradient(cmap ='Blues'))\n",
    "formatted_table"
   ]
  },
  {
   "cell_type": "code",
   "execution_count": 12,
   "id": "f625659f",
   "metadata": {},
   "outputs": [
    {
     "name": "stdout",
     "output_type": "stream",
     "text": [
      "{'dt_pipeline': Pipeline(steps=[('pca', PCA(n_components=102, random_state=0)),\n",
      "                ('dt',\n",
      "                 DecisionTreeClassifier(criterion='entropy', max_depth=5,\n",
      "                                        min_samples_leaf=10, random_state=0))]), 'knn_pipeline': Pipeline(steps=[('adasyn', ADASYN(random_state=0)),\n",
      "                ('pca', PCA(n_components=227, random_state=0)),\n",
      "                ('knn', KNeighborsClassifier(n_neighbors=1))]), 'svm_pipeline': Pipeline(steps=[('pca', PCA(n_components=76, random_state=0)),\n",
      "                ('svm', SVC(C=29.763514416313132, random_state=0))]), 'rf_pipeline': Pipeline(steps=[('adasyn', ADASYN(random_state=0)),\n",
      "                ('pca', PCA(n_components=48, random_state=0)),\n",
      "                ('rf', RandomForestClassifier(max_depth=15, random_state=0))])}\n"
     ]
    }
   ],
   "source": [
    "stack_estimators = [dt_pca_pipeline,knn_pca_pipeline,svm_pca_pipeline,rf_pca_pipeline]\n",
    "stack_estimators = {str(model)+\"_pipeline\" : estimator for estimator, model in zip(stack_estimators,[\"dt\",\"knn\",\"svm\",\"rf\"])}\n",
    "print(stack_estimators)"
   ]
  },
  {
   "cell_type": "code",
   "execution_count": 13,
   "id": "ce056788",
   "metadata": {},
   "outputs": [],
   "source": [
    "stack_results = dict()\n",
    "stack_results_table = []"
   ]
  },
  {
   "cell_type": "code",
   "execution_count": 14,
   "id": "212c13a2",
   "metadata": {},
   "outputs": [
    {
     "name": "stdout",
     "output_type": "stream",
     "text": [
      "Results when Random Forest is used as Stacking Classifier\n"
     ]
    },
    {
     "data": {
      "image/png": "[encoded data removed]",
      "text/plain": [
       "<Figure size 432x288 with 2 Axes>"
      ]
     },
     "metadata": {
      "needs_background": "light"
     },
     "output_type": "display_data"
    },
    {
     "name": "stdout",
     "output_type": "stream",
     "text": [
      "F1-score obtained is  0.3667\n",
      "Precision obtained is  0.4056\n",
      "Recall obtained is  0.3573\n",
      "Classification Report obtained is :\n",
      "              precision    recall  f1-score   support\n",
      "\n",
      "           0       0.46      0.69      0.55        32\n",
      "           1       0.33      0.27      0.30        11\n",
      "           2       0.67      0.40      0.50         5\n",
      "           3       0.12      0.06      0.08        16\n",
      "           4       0.44      0.36      0.40        22\n",
      "\n",
      "    accuracy                           0.42        86\n",
      "   macro avg       0.41      0.36      0.37        86\n",
      "weighted avg       0.39      0.42      0.39        86\n",
      "\n"
     ]
    }
   ],
   "source": [
    "from sklearn.base import clone\n",
    "for model,model_name in zip([RandomForestClassifier(random_state=rs)],[\"Random Forest\"]):\n",
    "    stacking = StackingClassifier([(estName, clone(est)) for estName, est in stack_estimators.items()], model)\n",
    "    stacking.fit(X_train, y_train)\n",
    "    stack_results[f'{model.__class__.__name__}'+\"_yPred\"] = stacking.predict(X_test)\n",
    "    stack_list = [f'{model.__class__.__name__}'+\" - Stacking Classifier\"]\n",
    "    print(\"Results when {} is used as Stacking Classifier\".format(model_name))\n",
    "    stack_list.extend(print_metrics(y_test, stack_results[f'{model.__class__.__name__}'+\"_yPred\"], f'{model.__class__.__name__}'+\" - Stacking Classifier\"))\n",
    "    stack_results_table.append(stack_list)"
   ]
  },
  {
   "cell_type": "code",
   "execution_count": 15,
   "id": "d48a375d",
   "metadata": {},
   "outputs": [
    {
     "name": "stdout",
     "output_type": "stream",
     "text": [
      "Results when AdaBoost is used as Stacking Classifier\n"
     ]
    },
    {
     "data": {
      "image/png": "[encoded data removed]",
      "text/plain": [
       "<Figure size 432x288 with 2 Axes>"
      ]
     },
     "metadata": {
      "needs_background": "light"
     },
     "output_type": "display_data"
    },
    {
     "name": "stdout",
     "output_type": "stream",
     "text": [
      "F1-score obtained is  0.3341\n",
      "Precision obtained is  0.3822\n",
      "Recall obtained is  0.3201\n",
      "Classification Report obtained is :\n",
      "              precision    recall  f1-score   support\n",
      "\n",
      "           0       0.39      0.47      0.43        32\n",
      "           1       0.29      0.18      0.22        11\n",
      "           2       0.50      0.20      0.29         5\n",
      "           3       0.31      0.25      0.28        16\n",
      "           4       0.42      0.50      0.46        22\n",
      "\n",
      "    accuracy                           0.38        86\n",
      "   macro avg       0.38      0.32      0.33        86\n",
      "weighted avg       0.38      0.38      0.37        86\n",
      "\n"
     ]
    }
   ],
   "source": [
    "from sklearn.base import clone\n",
    "for model,model_name in zip([AdaBoostClassifier(random_state = rs)],[\"AdaBoost\"]):\n",
    "    stacking = StackingClassifier([(estName, clone(est)) for estName, est in stack_estimators.items()], model)\n",
    "    stacking.fit(X_train, y_train)\n",
    "    stack_results[f'{model.__class__.__name__}'+\"_yPred\"] = stacking.predict(X_test)\n",
    "    stack_list = [f'{model.__class__.__name__}'+\" - Stacking Classifier\"]\n",
    "    print(\"Results when {} is used as Stacking Classifier\".format(model_name))\n",
    "    stack_list.extend(print_metrics(y_test, stack_results[f'{model.__class__.__name__}'+\"_yPred\"], f'{model.__class__.__name__}'+\" - Stacking Classifier\"))\n",
    "    stack_results_table.append(stack_list)"
   ]
  },
  {
   "cell_type": "code",
   "execution_count": 16,
   "id": "241332fe",
   "metadata": {},
   "outputs": [
    {
     "name": "stdout",
     "output_type": "stream",
     "text": [
      "[19:15:22] WARNING: C:/Users/Administrator/workspace/xgboost-win64_release_1.5.1/src/learner.cc:1115: Starting in XGBoost 1.3.0, the default evaluation metric used with the objective 'multi:softprob' was changed from 'merror' to 'mlogloss'. Explicitly set eval_metric if you'd like to restore the old behavior.\n",
      "Results when XGBoost is used as Stacking Classifier\n"
     ]
    },
    {
     "data": {
      "image/png": "[encoded data removed]",
      "text/plain": [
       "<Figure size 432x288 with 2 Axes>"
      ]
     },
     "metadata": {
      "needs_background": "light"
     },
     "output_type": "display_data"
    },
    {
     "name": "stdout",
     "output_type": "stream",
     "text": [
      "F1-score obtained is  0.3444\n",
      "Precision obtained is  0.3665\n",
      "Recall obtained is  0.3383\n",
      "Classification Report obtained is :\n",
      "              precision    recall  f1-score   support\n",
      "\n",
      "           0       0.44      0.59      0.51        32\n",
      "           1       0.33      0.27      0.30        11\n",
      "           2       0.33      0.20      0.25         5\n",
      "           3       0.20      0.12      0.15        16\n",
      "           4       0.52      0.50      0.51        22\n",
      "\n",
      "    accuracy                           0.42        86\n",
      "   macro avg       0.37      0.34      0.34        86\n",
      "weighted avg       0.40      0.42      0.40        86\n",
      "\n"
     ]
    }
   ],
   "source": [
    "from xgboost import XGBClassifier\n",
    "for model,model_name in zip([XGBClassifier(objective=\"binary:logistic\", random_state=rs)],[\"XGBoost\"]):\n",
    "    stacking = StackingClassifier([(estName, clone(est)) for estName, est in stack_estimators.items()], model)\n",
    "    stacking.fit(X_train, y_train)\n",
    "    stack_results[f'{model.__class__.__name__}'+\"_yPred\"] = stacking.predict(X_test)\n",
    "    stack_list = [f'{model.__class__.__name__}'+\" - Stacking Classifier\"]\n",
    "    print(\"Results when {} is used as Stacking Classifier\".format(model_name))\n",
    "    stack_list.extend(print_metrics(y_test, stack_results[f'{model.__class__.__name__}'+\"_yPred\"], f'{model.__class__.__name__}'+\" - Stacking Classifier\"))\n",
    "    stack_results_table.append(stack_list)"
   ]
  },
  {
   "cell_type": "code",
   "execution_count": 17,
   "id": "11f36335",
   "metadata": {},
   "outputs": [
    {
     "name": "stdout",
     "output_type": "stream",
     "text": [
      "Results when Gradient-Boosted Decision Tree is used as Stacking Classifier\n"
     ]
    },
    {
     "data": {
      "image/png": "[encoded data removed]",
      "text/plain": [
       "<Figure size 432x288 with 2 Axes>"
      ]
     },
     "metadata": {
      "needs_background": "light"
     },
     "output_type": "display_data"
    },
    {
     "name": "stdout",
     "output_type": "stream",
     "text": [
      "F1-score obtained is  0.269\n",
      "Precision obtained is  0.2727\n",
      "Recall obtained is  0.283\n",
      "Classification Report obtained is :\n",
      "              precision    recall  f1-score   support\n",
      "\n",
      "           0       0.42      0.62      0.50        32\n",
      "           1       0.33      0.36      0.35        11\n",
      "           2       0.00      0.00      0.00         5\n",
      "           3       0.14      0.06      0.09        16\n",
      "           4       0.47      0.36      0.41        22\n",
      "\n",
      "    accuracy                           0.38        86\n",
      "   macro avg       0.27      0.28      0.27        86\n",
      "weighted avg       0.34      0.38      0.35        86\n",
      "\n"
     ]
    }
   ],
   "source": [
    "for model,model_name in zip([GradientBoostingClassifier(random_state = rs)],[\"Gradient-Boosted Decision Tree\"]):\n",
    "    stacking = StackingClassifier([(estName, clone(est)) for estName, est in stack_estimators.items()], model)\n",
    "    stacking.fit(X_train, y_train)\n",
    "    stack_results[f'{model.__class__.__name__}'+\"_yPred\"] = stacking.predict(X_test)\n",
    "    stack_list = [f'{model.__class__.__name__}'+\" - Stacking Classifier\"]\n",
    "    print(\"Results when {} is used as Stacking Classifier\".format(model_name))\n",
    "    stack_list.extend(print_metrics(y_test, stack_results[f'{model.__class__.__name__}'+\"_yPred\"], f'{model.__class__.__name__}'+\" - Stacking Classifier\"))\n",
    "    stack_results_table.append(stack_list)"
   ]
  },
  {
   "cell_type": "code",
   "execution_count": 18,
   "id": "d6fb79bd",
   "metadata": {},
   "outputs": [
    {
     "name": "stdout",
     "output_type": "stream",
     "text": [
      "Results when Decision Tree is used as Stacking Classifier\n"
     ]
    },
    {
     "data": {
      "image/png": "[encoded data removed]",
      "text/plain": [
       "<Figure size 432x288 with 2 Axes>"
      ]
     },
     "metadata": {
      "needs_background": "light"
     },
     "output_type": "display_data"
    },
    {
     "name": "stdout",
     "output_type": "stream",
     "text": [
      "F1-score obtained is  0.3028\n",
      "Precision obtained is  0.345\n",
      "Recall obtained is  0.2834\n",
      "Classification Report obtained is :\n",
      "              precision    recall  f1-score   support\n",
      "\n",
      "           0       0.39      0.44      0.41        32\n",
      "           1       0.40      0.18      0.25        11\n",
      "           2       0.50      0.40      0.44         5\n",
      "           3       0.08      0.12      0.10        16\n",
      "           4       0.35      0.27      0.31        22\n",
      "\n",
      "    accuracy                           0.30        86\n",
      "   macro avg       0.35      0.28      0.30        86\n",
      "weighted avg       0.33      0.30      0.31        86\n",
      "\n"
     ]
    }
   ],
   "source": [
    "for model,model_name in zip([DecisionTreeClassifier(random_state=rs)],[\"Decision Tree\"]):\n",
    "    stacking = StackingClassifier([(estName, clone(est)) for estName, est in stack_estimators.items()], model)\n",
    "    stacking.fit(X_train, y_train)\n",
    "    stack_results[f'{model.__class__.__name__}'+\"_yPred\"] = stacking.predict(X_test)\n",
    "    stack_list = [f'{model.__class__.__name__}'+\" - Stacking Classifier\"]\n",
    "    print(\"Results when {} is used as Stacking Classifier\".format(model_name))\n",
    "    stack_list.extend(print_metrics(y_test, stack_results[f'{model.__class__.__name__}'+\"_yPred\"], f'{model.__class__.__name__}'+\" - Stacking Classifier\"))\n",
    "    stack_results_table.append(stack_list)"
   ]
  },
  {
   "cell_type": "code",
   "execution_count": 19,
   "id": "785fde35",
   "metadata": {},
   "outputs": [
    {
     "data": {
      "text/plain": [
       "[['RandomForestClassifier - Stacking Classifier', 0.3667, 0.4056, 0.3573],\n",
       " ['AdaBoostClassifier - Stacking Classifier', 0.3341, 0.3822, 0.3201],\n",
       " ['XGBClassifier - Stacking Classifier', 0.3444, 0.3665, 0.3383],\n",
       " ['GradientBoostingClassifier - Stacking Classifier', 0.269, 0.2727, 0.283],\n",
       " ['DecisionTreeClassifier - Stacking Classifier', 0.3028, 0.345, 0.2834]]"
      ]
     },
     "execution_count": 19,
     "metadata": {},
     "output_type": "execute_result"
    }
   ],
   "source": [
    "stack_results_table"
   ]
  },
  {
   "cell_type": "code",
   "execution_count": 20,
   "id": "062f872f",
   "metadata": {},
   "outputs": [
    {
     "data": {
      "text/html": [
       "<style type=\"text/css\">\n",
       "#T_bff6f_row0_col1, #T_bff6f_row0_col2, #T_bff6f_row0_col3 {\n",
       "  background-color: #08306b;\n",
       "  color: #f1f1f1;\n",
       "}\n",
       "#T_bff6f_row1_col1 {\n",
       "  background-color: #3787c0;\n",
       "  color: #f1f1f1;\n",
       "}\n",
       "#T_bff6f_row1_col2 {\n",
       "  background-color: #125ea6;\n",
       "  color: #f1f1f1;\n",
       "}\n",
       "#T_bff6f_row1_col3 {\n",
       "  background-color: #6caed6;\n",
       "  color: #f1f1f1;\n",
       "}\n",
       "#T_bff6f_row2_col1 {\n",
       "  background-color: #1c6bb0;\n",
       "  color: #f1f1f1;\n",
       "}\n",
       "#T_bff6f_row2_col2 {\n",
       "  background-color: #2d7dbb;\n",
       "  color: #f1f1f1;\n",
       "}\n",
       "#T_bff6f_row2_col3 {\n",
       "  background-color: #2272b6;\n",
       "  color: #f1f1f1;\n",
       "}\n",
       "#T_bff6f_row3_col1, #T_bff6f_row3_col2, #T_bff6f_row3_col3 {\n",
       "  background-color: #f7fbff;\n",
       "  color: #000000;\n",
       "}\n",
       "#T_bff6f_row4_col1 {\n",
       "  background-color: #a8cee4;\n",
       "  color: #000000;\n",
       "}\n",
       "#T_bff6f_row4_col2 {\n",
       "  background-color: #5ca4d0;\n",
       "  color: #f1f1f1;\n",
       "}\n",
       "#T_bff6f_row4_col3 {\n",
       "  background-color: #f6faff;\n",
       "  color: #000000;\n",
       "}\n",
       "</style>\n",
       "<table id=\"T_bff6f_\">\n",
       "  <thead>\n",
       "    <tr>\n",
       "      <th class=\"blank level0\" >&nbsp;</th>\n",
       "      <th class=\"col_heading level0 col0\" >Classifier</th>\n",
       "      <th class=\"col_heading level0 col1\" >f1-score</th>\n",
       "      <th class=\"col_heading level0 col2\" >Precision</th>\n",
       "      <th class=\"col_heading level0 col3\" >Recall</th>\n",
       "    </tr>\n",
       "  </thead>\n",
       "  <tbody>\n",
       "    <tr>\n",
       "      <th id=\"T_bff6f_level0_row0\" class=\"row_heading level0 row0\" >0</th>\n",
       "      <td id=\"T_bff6f_row0_col0\" class=\"data row0 col0\" >RandomForestClassifier - Stacking Classifier</td>\n",
       "      <td id=\"T_bff6f_row0_col1\" class=\"data row0 col1\" >0.3667</td>\n",
       "      <td id=\"T_bff6f_row0_col2\" class=\"data row0 col2\" >0.4056</td>\n",
       "      <td id=\"T_bff6f_row0_col3\" class=\"data row0 col3\" >0.3573</td>\n",
       "    </tr>\n",
       "    <tr>\n",
       "      <th id=\"T_bff6f_level0_row1\" class=\"row_heading level0 row1\" >1</th>\n",
       "      <td id=\"T_bff6f_row1_col0\" class=\"data row1 col0\" >AdaBoostClassifier - Stacking Classifier</td>\n",
       "      <td id=\"T_bff6f_row1_col1\" class=\"data row1 col1\" >0.3341</td>\n",
       "      <td id=\"T_bff6f_row1_col2\" class=\"data row1 col2\" >0.3822</td>\n",
       "      <td id=\"T_bff6f_row1_col3\" class=\"data row1 col3\" >0.3201</td>\n",
       "    </tr>\n",
       "    <tr>\n",
       "      <th id=\"T_bff6f_level0_row2\" class=\"row_heading level0 row2\" >2</th>\n",
       "      <td id=\"T_bff6f_row2_col0\" class=\"data row2 col0\" >XGBClassifier - Stacking Classifier</td>\n",
       "      <td id=\"T_bff6f_row2_col1\" class=\"data row2 col1\" >0.3444</td>\n",
       "      <td id=\"T_bff6f_row2_col2\" class=\"data row2 col2\" >0.3665</td>\n",
       "      <td id=\"T_bff6f_row2_col3\" class=\"data row2 col3\" >0.3383</td>\n",
       "    </tr>\n",
       "    <tr>\n",
       "      <th id=\"T_bff6f_level0_row3\" class=\"row_heading level0 row3\" >3</th>\n",
       "      <td id=\"T_bff6f_row3_col0\" class=\"data row3 col0\" >GradientBoostingClassifier - Stacking Classifier</td>\n",
       "      <td id=\"T_bff6f_row3_col1\" class=\"data row3 col1\" >0.2690</td>\n",
       "      <td id=\"T_bff6f_row3_col2\" class=\"data row3 col2\" >0.2727</td>\n",
       "      <td id=\"T_bff6f_row3_col3\" class=\"data row3 col3\" >0.2830</td>\n",
       "    </tr>\n",
       "    <tr>\n",
       "      <th id=\"T_bff6f_level0_row4\" class=\"row_heading level0 row4\" >4</th>\n",
       "      <td id=\"T_bff6f_row4_col0\" class=\"data row4 col0\" >DecisionTreeClassifier - Stacking Classifier</td>\n",
       "      <td id=\"T_bff6f_row4_col1\" class=\"data row4 col1\" >0.3028</td>\n",
       "      <td id=\"T_bff6f_row4_col2\" class=\"data row4 col2\" >0.3450</td>\n",
       "      <td id=\"T_bff6f_row4_col3\" class=\"data row4 col3\" >0.2834</td>\n",
       "    </tr>\n",
       "  </tbody>\n",
       "</table>\n"
      ],
      "text/plain": [
       "<pandas.io.formats.style.Styler at 0x225dc1e5b80>"
      ]
     },
     "execution_count": 20,
     "metadata": {},
     "output_type": "execute_result"
    }
   ],
   "source": [
    "#Tabulating the obtained results and displaying the results by formatting\n",
    "results_df = pd.DataFrame(stack_results_table,columns = [\"Classifier\",\"f1-score\",\"Precision\",\"Recall\"])\n",
    "with pd.option_context('display.precision', 4):\n",
    "    formatted_table=(results_df.style.background_gradient(cmap ='Blues'))\n",
    "formatted_table"
   ]
  },
  {
   "cell_type": "code",
   "execution_count": 25,
   "id": "dc095483",
   "metadata": {},
   "outputs": [
    {
     "name": "stdout",
     "output_type": "stream",
     "text": [
      "{'dt_pipeline': Pipeline(steps=[('pca', PCA(n_components=102, random_state=0)),\n",
      "                ('dt',\n",
      "                 DecisionTreeClassifier(criterion='entropy', max_depth=5,\n",
      "                                        min_samples_leaf=10, random_state=0))]), 'knn_pipeline': Pipeline(steps=[('adasyn', ADASYN(random_state=0)),\n",
      "                ('pca', PCA(n_components=227, random_state=0)),\n",
      "                ('knn', KNeighborsClassifier(n_neighbors=1))]), 'svm_pipeline': Pipeline(steps=[('pca', PCA(n_components=76, random_state=0)),\n",
      "                ('svm', SVC(C=29.763514416313132, random_state=0))]), 'rf_pipeline': Pipeline(steps=[('adasyn', ADASYN(random_state=0)),\n",
      "                ('pca', PCA(n_components=48, random_state=0)),\n",
      "                ('rf', RandomForestClassifier(max_depth=15, random_state=0))])}\n",
      "Results when {} is used as Voting Classifier\n"
     ]
    },
    {
     "data": {
      "image/png": "[encoded data removed]",
      "text/plain": [
       "<Figure size 432x288 with 2 Axes>"
      ]
     },
     "metadata": {
      "needs_background": "light"
     },
     "output_type": "display_data"
    },
    {
     "name": "stdout",
     "output_type": "stream",
     "text": [
      "F1-score obtained is  0.6163\n",
      "Precision obtained is  0.6473\n",
      "Recall obtained is  0.6219\n",
      "Classification Report obtained is :\n",
      "              precision    recall  f1-score   support\n",
      "\n",
      "           0       0.60      0.84      0.70        32\n",
      "           1       0.64      0.64      0.64        11\n",
      "           2       0.67      0.80      0.73         5\n",
      "           3       0.50      0.38      0.43        16\n",
      "           4       0.83      0.45      0.59        22\n",
      "\n",
      "    accuracy                           0.63        86\n",
      "   macro avg       0.65      0.62      0.62        86\n",
      "weighted avg       0.65      0.63      0.61        86\n",
      "\n"
     ]
    }
   ],
   "source": [
    "stack_estimators = [dt_pca_pipeline,knn_pca_pipeline,svm_pca_pipeline,rf_pca_pipeline]\n",
    "stack_estimators = {str(model)+\"_pipeline\" : estimator for estimator, model in zip(stack_estimators,[\"dt\",\"knn\",\"svm\",\"rf\"])}\n",
    "print(stack_estimators)\n",
    "\n",
    "voting_classifier = VotingClassifier([(estName, clone(est)) for estName, est in stack_estimators.items()], voting='hard')\n",
    "model = voting_classifier\n",
    "voting_classifier.fit(X_train, y_train)\n",
    "stack_results[f'{model.__class__.__name__}'+\"_yPred\"] = voting_classifier.predict(X_test)\n",
    "stack_list = [f'{model.__class__.__name__}'+\" - Voting Classifier\"]\n",
    "print(\"Results when {} is used as Voting Classifier\")\n",
    "stack_list.extend(print_metrics(y_test, stack_results[f'{model.__class__.__name__}'+\"_yPred\"], f'{model.__class__.__name__}'+\" - Stacking Classifier\"))\n",
    "stack_results_table.append(stack_list)"
   ]
  },
  {
   "cell_type": "code",
   "execution_count": 26,
   "id": "148bc3c3",
   "metadata": {},
   "outputs": [
    {
     "data": {
      "text/plain": [
       "[['RandomForestClassifier - Stacking Classifier', 0.3667, 0.4056, 0.3573],\n",
       " ['AdaBoostClassifier - Stacking Classifier', 0.3341, 0.3822, 0.3201],\n",
       " ['XGBClassifier - Stacking Classifier', 0.3444, 0.3665, 0.3383],\n",
       " ['GradientBoostingClassifier - Stacking Classifier', 0.269, 0.2727, 0.283],\n",
       " ['DecisionTreeClassifier - Stacking Classifier', 0.3028, 0.345, 0.2834],\n",
       " ['VotingClassifier - Voting Classifier', 0.6163, 0.6473, 0.6219]]"
      ]
     },
     "execution_count": 26,
     "metadata": {},
     "output_type": "execute_result"
    }
   ],
   "source": [
    "stack_results_table"
   ]
  },
  {
   "cell_type": "code",
   "execution_count": 27,
   "id": "b7af33db",
   "metadata": {},
   "outputs": [
    {
     "data": {
      "text/html": [
       "<style type=\"text/css\">\n",
       "#T_e7a0d_row0_col1 {\n",
       "  background-color: #bcd7eb;\n",
       "  color: #000000;\n",
       "}\n",
       "#T_e7a0d_row0_col2 {\n",
       "  background-color: #a5cde3;\n",
       "  color: #000000;\n",
       "}\n",
       "#T_e7a0d_row0_col3 {\n",
       "  background-color: #ccdff1;\n",
       "  color: #000000;\n",
       "}\n",
       "#T_e7a0d_row1_col1 {\n",
       "  background-color: #d3e3f3;\n",
       "  color: #000000;\n",
       "}\n",
       "#T_e7a0d_row1_col2 {\n",
       "  background-color: #b9d6ea;\n",
       "  color: #000000;\n",
       "}\n",
       "#T_e7a0d_row1_col3 {\n",
       "  background-color: #e1edf8;\n",
       "  color: #000000;\n",
       "}\n",
       "#T_e7a0d_row2_col1 {\n",
       "  background-color: #cddff1;\n",
       "  color: #000000;\n",
       "}\n",
       "#T_e7a0d_row2_col2 {\n",
       "  background-color: #c6dbef;\n",
       "  color: #000000;\n",
       "}\n",
       "#T_e7a0d_row2_col3 {\n",
       "  background-color: #d7e6f5;\n",
       "  color: #000000;\n",
       "}\n",
       "#T_e7a0d_row3_col1, #T_e7a0d_row3_col2, #T_e7a0d_row3_col3, #T_e7a0d_row4_col3 {\n",
       "  background-color: #f7fbff;\n",
       "  color: #000000;\n",
       "}\n",
       "#T_e7a0d_row4_col1 {\n",
       "  background-color: #e4eff9;\n",
       "  color: #000000;\n",
       "}\n",
       "#T_e7a0d_row4_col2 {\n",
       "  background-color: #d1e2f3;\n",
       "  color: #000000;\n",
       "}\n",
       "#T_e7a0d_row5_col1, #T_e7a0d_row5_col2, #T_e7a0d_row5_col3 {\n",
       "  background-color: #08306b;\n",
       "  color: #f1f1f1;\n",
       "}\n",
       "</style>\n",
       "<table id=\"T_e7a0d_\">\n",
       "  <thead>\n",
       "    <tr>\n",
       "      <th class=\"blank level0\" >&nbsp;</th>\n",
       "      <th class=\"col_heading level0 col0\" >Classifier</th>\n",
       "      <th class=\"col_heading level0 col1\" >f1-score</th>\n",
       "      <th class=\"col_heading level0 col2\" >Precision</th>\n",
       "      <th class=\"col_heading level0 col3\" >Recall</th>\n",
       "    </tr>\n",
       "  </thead>\n",
       "  <tbody>\n",
       "    <tr>\n",
       "      <th id=\"T_e7a0d_level0_row0\" class=\"row_heading level0 row0\" >0</th>\n",
       "      <td id=\"T_e7a0d_row0_col0\" class=\"data row0 col0\" >RandomForestClassifier - Stacking Classifier</td>\n",
       "      <td id=\"T_e7a0d_row0_col1\" class=\"data row0 col1\" >0.3667</td>\n",
       "      <td id=\"T_e7a0d_row0_col2\" class=\"data row0 col2\" >0.4056</td>\n",
       "      <td id=\"T_e7a0d_row0_col3\" class=\"data row0 col3\" >0.3573</td>\n",
       "    </tr>\n",
       "    <tr>\n",
       "      <th id=\"T_e7a0d_level0_row1\" class=\"row_heading level0 row1\" >1</th>\n",
       "      <td id=\"T_e7a0d_row1_col0\" class=\"data row1 col0\" >AdaBoostClassifier - Stacking Classifier</td>\n",
       "      <td id=\"T_e7a0d_row1_col1\" class=\"data row1 col1\" >0.3341</td>\n",
       "      <td id=\"T_e7a0d_row1_col2\" class=\"data row1 col2\" >0.3822</td>\n",
       "      <td id=\"T_e7a0d_row1_col3\" class=\"data row1 col3\" >0.3201</td>\n",
       "    </tr>\n",
       "    <tr>\n",
       "      <th id=\"T_e7a0d_level0_row2\" class=\"row_heading level0 row2\" >2</th>\n",
       "      <td id=\"T_e7a0d_row2_col0\" class=\"data row2 col0\" >XGBClassifier - Stacking Classifier</td>\n",
       "      <td id=\"T_e7a0d_row2_col1\" class=\"data row2 col1\" >0.3444</td>\n",
       "      <td id=\"T_e7a0d_row2_col2\" class=\"data row2 col2\" >0.3665</td>\n",
       "      <td id=\"T_e7a0d_row2_col3\" class=\"data row2 col3\" >0.3383</td>\n",
       "    </tr>\n",
       "    <tr>\n",
       "      <th id=\"T_e7a0d_level0_row3\" class=\"row_heading level0 row3\" >3</th>\n",
       "      <td id=\"T_e7a0d_row3_col0\" class=\"data row3 col0\" >GradientBoostingClassifier - Stacking Classifier</td>\n",
       "      <td id=\"T_e7a0d_row3_col1\" class=\"data row3 col1\" >0.2690</td>\n",
       "      <td id=\"T_e7a0d_row3_col2\" class=\"data row3 col2\" >0.2727</td>\n",
       "      <td id=\"T_e7a0d_row3_col3\" class=\"data row3 col3\" >0.2830</td>\n",
       "    </tr>\n",
       "    <tr>\n",
       "      <th id=\"T_e7a0d_level0_row4\" class=\"row_heading level0 row4\" >4</th>\n",
       "      <td id=\"T_e7a0d_row4_col0\" class=\"data row4 col0\" >DecisionTreeClassifier - Stacking Classifier</td>\n",
       "      <td id=\"T_e7a0d_row4_col1\" class=\"data row4 col1\" >0.3028</td>\n",
       "      <td id=\"T_e7a0d_row4_col2\" class=\"data row4 col2\" >0.3450</td>\n",
       "      <td id=\"T_e7a0d_row4_col3\" class=\"data row4 col3\" >0.2834</td>\n",
       "    </tr>\n",
       "    <tr>\n",
       "      <th id=\"T_e7a0d_level0_row5\" class=\"row_heading level0 row5\" >5</th>\n",
       "      <td id=\"T_e7a0d_row5_col0\" class=\"data row5 col0\" >VotingClassifier - Voting Classifier</td>\n",
       "      <td id=\"T_e7a0d_row5_col1\" class=\"data row5 col1\" >0.6163</td>\n",
       "      <td id=\"T_e7a0d_row5_col2\" class=\"data row5 col2\" >0.6473</td>\n",
       "      <td id=\"T_e7a0d_row5_col3\" class=\"data row5 col3\" >0.6219</td>\n",
       "    </tr>\n",
       "  </tbody>\n",
       "</table>\n"
      ],
      "text/plain": [
       "<pandas.io.formats.style.Styler at 0x225e1ebaeb0>"
      ]
     },
     "execution_count": 27,
     "metadata": {},
     "output_type": "execute_result"
    }
   ],
   "source": [
    "#Tabulating the obtained results and displaying the results by formatting\n",
    "results_df = pd.DataFrame(stack_results_table,columns = [\"Classifier\",\"f1-score\",\"Precision\",\"Recall\"])\n",
    "with pd.option_context('display.precision', 4):\n",
    "    formatted_table=(results_df.style.background_gradient(cmap ='Blues'))\n",
    "formatted_table"
   ]
  },
  {
   "cell_type": "code",
   "execution_count": 36,
   "id": "7c204486",
   "metadata": {},
   "outputs": [
    {
     "name": "stdout",
     "output_type": "stream",
     "text": [
      "{'dt_pipeline': Pipeline(steps=[('dt_pca', PCA(n_components=102, random_state=0)),\n",
      "                ('dt',\n",
      "                 DecisionTreeClassifier(criterion='entropy', max_depth=5,\n",
      "                                        min_samples_leaf=10, random_state=0))]), 'knn_pipeline': Pipeline(steps=[('adasyn', ADASYN(random_state=0)),\n",
      "                ('pca', PCA(n_components=227, random_state=0)),\n",
      "                ('knn', KNeighborsClassifier(n_neighbors=1))]), 'svm_pipeline': Pipeline(steps=[('svm_pca', PCA(n_components=76, random_state=0)),\n",
      "                ('svm', SVC(C=29.763514416313132, random_state=0))]), 'rf_pipeline': Pipeline(steps=[('adasyn', ADASYN(random_state=0)),\n",
      "                ('pca', PCA(n_components=48, random_state=0)),\n",
      "                ('rf', RandomForestClassifier(max_depth=15, random_state=0))])}\n"
     ]
    }
   ],
   "source": [
    "from sklearn.model_selection import cross_validate\n",
    "\n",
    "dt = DecisionTreeClassifier(criterion='entropy', max_depth=5, min_samples_leaf=10, random_state=0)\n",
    "dt_pca = PCA(n_components=102,random_state=rs)\n",
    "dt_pca_pipeline = Pipeline([('dt_pca', dt_pca), ('dt', dt)])\n",
    "\n",
    "\n",
    "knn_pca_pipeline = Pipeline(steps=[('adasyn', ADASYN(random_state=0)),('pca' , PCA(n_components=227,random_state=rs)),\n",
    "                ('knn',KNeighborsClassifier(n_neighbors=1))])\n",
    "\n",
    "rf_pca_pipeline = Pipeline(steps=[('adasyn', ADASYN(random_state=0)),('pca',PCA(n_components=48,random_state=rs)),\n",
    "                ('rf', RandomForestClassifier(max_depth=15, random_state=0))])\n",
    "\n",
    "svm = SVC(C=29.763514416313132, random_state=0)\n",
    "svm_pca = PCA(n_components=76,random_state=rs)\n",
    "svm_pca_pipeline = Pipeline([('svm_pca', svm_pca), ('svm', svm)])\n",
    "\n",
    "stack_estimators = [dt_pca_pipeline,knn_pca_pipeline,svm_pca_pipeline,rf_pca_pipeline]\n",
    "stack_estimators = {str(model)+\"_pipeline\" : estimator for estimator, model in zip(stack_estimators,[\"dt\",\"knn\",\"svm\",\"rf\"])}\n",
    "print(stack_estimators)\n",
    "\n",
    "voting_classifier = VotingClassifier([(estName, clone(est)) for estName, est in stack_estimators.items()], voting='hard')\n",
    "\n",
    "_scoring = ['f1_macro']\n",
    "\n",
    "\n",
    "results = cross_validate(estimator=voting_classifier,\n",
    "                               X=data_df_features,\n",
    "                               y=data_df_class,\n",
    "                               cv=5,\n",
    "                               scoring=_scoring,\n",
    "                               return_train_score=True)"
   ]
  },
  {
   "cell_type": "code",
   "execution_count": 37,
   "id": "317cf381",
   "metadata": {},
   "outputs": [
    {
     "data": {
      "text/plain": [
       "{'fit_time': array([5.32719254, 5.54769945, 5.54714608, 5.17052984, 5.81889439]),\n",
       " 'score_time': array([0.03998828, 0.03399014, 0.04299212, 0.03798294, 0.03499126]),\n",
       " 'test_f1_macro': array([0.4470221 , 0.49277076, 0.3979451 , 0.41139063, 0.50385297]),\n",
       " 'train_f1_macro': array([1., 1., 1., 1., 1.])}"
      ]
     },
     "execution_count": 37,
     "metadata": {},
     "output_type": "execute_result"
    }
   ],
   "source": [
    "results"
   ]
  },
  {
   "cell_type": "code",
   "execution_count": 38,
   "id": "1a0a33b6",
   "metadata": {},
   "outputs": [
    {
     "name": "stdout",
     "output_type": "stream",
     "text": [
      "0.45059631395220806\n",
      "0.04227757352691807\n"
     ]
    }
   ],
   "source": [
    "import numpy as np\n",
    "print(np.mean(results[\"test_f1_macro\"]))\n",
    "print(np.std(results[\"test_f1_macro\"]))"
   ]
  },
  {
   "cell_type": "code",
   "execution_count": 39,
   "id": "e76022c7",
   "metadata": {},
   "outputs": [
    {
     "name": "stdout",
     "output_type": "stream",
     "text": [
      "{'dt_pipeline': Pipeline(steps=[('scaler', MinMaxScaler()),\n",
      "                ('dt_pca', PCA(n_components=102, random_state=0)),\n",
      "                ('dt',\n",
      "                 DecisionTreeClassifier(criterion='entropy', max_depth=5,\n",
      "                                        min_samples_leaf=10, random_state=0))]), 'knn_pipeline': Pipeline(steps=[('scaler', MinMaxScaler()), ('adasyn', ADASYN(random_state=0)),\n",
      "                ('pca', PCA(n_components=227, random_state=0)),\n",
      "                ('knn', KNeighborsClassifier(n_neighbors=1))]), 'svm_pipeline': Pipeline(steps=[('scaler', MinMaxScaler()),\n",
      "                ('svm_pca', PCA(n_components=76, random_state=0)),\n",
      "                ('svm', SVC(C=29.763514416313132, random_state=0))]), 'rf_pipeline': Pipeline(steps=[('scaler', MinMaxScaler()), ('adasyn', ADASYN(random_state=0)),\n",
      "                ('pca', PCA(n_components=48, random_state=0)),\n",
      "                ('rf', RandomForestClassifier(max_depth=15, random_state=0))])}\n",
      "0.47845308429818145\n",
      "0.0449817509951815\n"
     ]
    }
   ],
   "source": [
    "from sklearn.model_selection import cross_validate\n",
    "from sklearn.preprocessing import MinMaxScaler\n",
    "\n",
    "dt = DecisionTreeClassifier(criterion='entropy', max_depth=5, min_samples_leaf=10, random_state=0)\n",
    "dt_pca = PCA(n_components=102,random_state=rs)\n",
    "dt_pca_pipeline = Pipeline([('scaler',MinMaxScaler()),('dt_pca', dt_pca), ('dt', dt)])\n",
    "\n",
    "\n",
    "knn_pca_pipeline = Pipeline(steps=[('scaler',MinMaxScaler()),('adasyn', ADASYN(random_state=0)),('pca' , PCA(n_components=227,random_state=rs)),\n",
    "                ('knn',KNeighborsClassifier(n_neighbors=1))])\n",
    "\n",
    "rf_pca_pipeline = Pipeline(steps=[('scaler',MinMaxScaler()),('adasyn', ADASYN(random_state=0)),('pca',PCA(n_components=48,random_state=rs)),\n",
    "                ('rf', RandomForestClassifier(max_depth=15, random_state=0))])\n",
    "\n",
    "svm = SVC(C=29.763514416313132, random_state=0)\n",
    "svm_pca = PCA(n_components=76,random_state=rs)\n",
    "svm_pca_pipeline = Pipeline([('scaler',MinMaxScaler()),('svm_pca', svm_pca), ('svm', svm)])\n",
    "\n",
    "stack_estimators = [dt_pca_pipeline,knn_pca_pipeline,svm_pca_pipeline,rf_pca_pipeline]\n",
    "stack_estimators = {str(model)+\"_pipeline\" : estimator for estimator, model in zip(stack_estimators,[\"dt\",\"knn\",\"svm\",\"rf\"])}\n",
    "print(stack_estimators)\n",
    "\n",
    "voting_classifier = VotingClassifier([(estName, clone(est)) for estName, est in stack_estimators.items()], voting='hard')\n",
    "\n",
    "_scoring = ['f1_macro']\n",
    "\n",
    "\n",
    "results = cross_validate(estimator=voting_classifier,\n",
    "                               X=data_df_features,\n",
    "                               y=data_df_class,\n",
    "                               cv=5,\n",
    "                               scoring=_scoring,\n",
    "                               return_train_score=True)\n",
    "\n",
    "print(np.mean(results[\"test_f1_macro\"]))\n",
    "print(np.std(results[\"test_f1_macro\"]))"
   ]
  },
  {
   "cell_type": "code",
   "execution_count": 40,
   "id": "059246a9",
   "metadata": {},
   "outputs": [
    {
     "data": {
      "text/plain": [
       "{'fit_time': array([4.90685368, 5.16209126, 5.13127351, 5.28885627, 5.2206831 ]),\n",
       " 'score_time': array([0.04099059, 0.03700089, 0.03499222, 0.03499222, 0.03301358]),\n",
       " 'test_f1_macro': array([0.47205256, 0.40557576, 0.46352092, 0.53276869, 0.51834749]),\n",
       " 'train_f1_macro': array([1., 1., 1., 1., 1.])}"
      ]
     },
     "execution_count": 40,
     "metadata": {},
     "output_type": "execute_result"
    }
   ],
   "source": [
    "results"
   ]
  },
  {
   "cell_type": "code",
   "execution_count": 41,
   "id": "cd3e6e9a",
   "metadata": {},
   "outputs": [
    {
     "name": "stdout",
     "output_type": "stream",
     "text": [
      "{'dt_pipeline': Pipeline(steps=[('dt_pca', PCA(n_components=102, random_state=0)),\n",
      "                ('dt',\n",
      "                 DecisionTreeClassifier(criterion='entropy', max_depth=5,\n",
      "                                        min_samples_leaf=10, random_state=0))]), 'knn_pipeline': Pipeline(steps=[('adasyn', ADASYN(random_state=0)),\n",
      "                ('pca', PCA(n_components=227, random_state=0)),\n",
      "                ('knn', KNeighborsClassifier(n_neighbors=1))]), 'svm_pipeline': Pipeline(steps=[('svm_pca', PCA(n_components=76, random_state=0)),\n",
      "                ('svm', SVC(C=29.763514416313132, random_state=0))]), 'rf_pipeline': Pipeline(steps=[('adasyn', ADASYN(random_state=0)),\n",
      "                ('pca', PCA(n_components=48, random_state=0)),\n",
      "                ('rf', RandomForestClassifier(max_depth=15, random_state=0))])}\n"
     ]
    }
   ],
   "source": [
    "from sklearn.model_selection import cross_validate\n",
    "\n",
    "dt = DecisionTreeClassifier(criterion='entropy', max_depth=5, min_samples_leaf=10, random_state=0)\n",
    "dt_pca = PCA(n_components=102,random_state=rs)\n",
    "dt_pca_pipeline = Pipeline([('dt_pca', dt_pca), ('dt', dt)])\n",
    "\n",
    "\n",
    "knn_pca_pipeline = Pipeline(steps=[('adasyn', ADASYN(random_state=0)),('pca' , PCA(n_components=227,random_state=rs)),\n",
    "                ('knn',KNeighborsClassifier(n_neighbors=1))])\n",
    "\n",
    "rf_pca_pipeline = Pipeline(steps=[('adasyn', ADASYN(random_state=0)),('pca',PCA(n_components=48,random_state=rs)),\n",
    "                ('rf', RandomForestClassifier(max_depth=15, random_state=0))])\n",
    "\n",
    "svm = SVC(C=29.763514416313132, random_state=0)\n",
    "svm_pca = PCA(n_components=76,random_state=rs)\n",
    "svm_pca_pipeline = Pipeline([('svm_pca', svm_pca), ('svm', svm)])\n",
    "\n",
    "stack_estimators = [dt_pca_pipeline,knn_pca_pipeline,svm_pca_pipeline,rf_pca_pipeline]\n",
    "stack_estimators = {str(model)+\"_pipeline\" : estimator for estimator, model in zip(stack_estimators,[\"dt\",\"knn\",\"svm\",\"rf\"])}\n",
    "print(stack_estimators)"
   ]
  },
  {
   "cell_type": "code",
   "execution_count": 44,
   "id": "47fd1cb4",
   "metadata": {},
   "outputs": [],
   "source": [
    "stacking = StackingClassifier([(estName, clone(est)) for estName, est in stack_estimators.items()], GradientBoostingClassifier(random_state = rs))\n",
    "\n",
    "_scoring = ['f1_macro']\n",
    "\n",
    "results = cross_validate(estimator=stacking,\n",
    "                               X=data_df_features,\n",
    "                               y=data_df_class,\n",
    "                               cv=5,\n",
    "                               scoring=_scoring,\n",
    "                               return_train_score=True)"
   ]
  },
  {
   "cell_type": "code",
   "execution_count": 45,
   "id": "1ed557c9",
   "metadata": {},
   "outputs": [
    {
     "data": {
      "text/plain": [
       "{'fit_time': array([31.68302178, 32.41772461, 33.27837133, 32.27609396, 32.20489693]),\n",
       " 'score_time': array([0.03499317, 0.03299093, 0.03899193, 0.03210473, 0.0339911 ]),\n",
       " 'test_f1_macro': array([0.325104  , 0.33304774, 0.38118125, 0.48893268, 0.47679894]),\n",
       " 'train_f1_macro': array([0.49131579, 0.66896404, 0.56800742, 0.53034783, 0.84742213])}"
      ]
     },
     "execution_count": 45,
     "metadata": {},
     "output_type": "execute_result"
    }
   ],
   "source": [
    "results"
   ]
  },
  {
   "cell_type": "code",
   "execution_count": 46,
   "id": "ae1ac984",
   "metadata": {},
   "outputs": [
    {
     "name": "stdout",
     "output_type": "stream",
     "text": [
      "0.40101292263777333\n",
      "0.06963925431215838\n"
     ]
    }
   ],
   "source": [
    "print(np.mean(results[\"test_f1_macro\"]))\n",
    "print(np.std(results[\"test_f1_macro\"]))"
   ]
  },
  {
   "cell_type": "code",
   "execution_count": 47,
   "id": "1254f013",
   "metadata": {},
   "outputs": [
    {
     "name": "stdout",
     "output_type": "stream",
     "text": [
      "[19:53:49] WARNING: C:/Users/Administrator/workspace/xgboost-win64_release_1.5.1/src/learner.cc:1115: Starting in XGBoost 1.3.0, the default evaluation metric used with the objective 'multi:softprob' was changed from 'merror' to 'mlogloss'. Explicitly set eval_metric if you'd like to restore the old behavior.\n",
      "[19:54:21] WARNING: C:/Users/Administrator/workspace/xgboost-win64_release_1.5.1/src/learner.cc:1115: Starting in XGBoost 1.3.0, the default evaluation metric used with the objective 'multi:softprob' was changed from 'merror' to 'mlogloss'. Explicitly set eval_metric if you'd like to restore the old behavior.\n",
      "[19:54:53] WARNING: C:/Users/Administrator/workspace/xgboost-win64_release_1.5.1/src/learner.cc:1115: Starting in XGBoost 1.3.0, the default evaluation metric used with the objective 'multi:softprob' was changed from 'merror' to 'mlogloss'. Explicitly set eval_metric if you'd like to restore the old behavior.\n",
      "[19:55:26] WARNING: C:/Users/Administrator/workspace/xgboost-win64_release_1.5.1/src/learner.cc:1115: Starting in XGBoost 1.3.0, the default evaluation metric used with the objective 'multi:softprob' was changed from 'merror' to 'mlogloss'. Explicitly set eval_metric if you'd like to restore the old behavior.\n",
      "[19:55:58] WARNING: C:/Users/Administrator/workspace/xgboost-win64_release_1.5.1/src/learner.cc:1115: Starting in XGBoost 1.3.0, the default evaluation metric used with the objective 'multi:softprob' was changed from 'merror' to 'mlogloss'. Explicitly set eval_metric if you'd like to restore the old behavior.\n",
      "0.42443879518478667\n",
      "0.05647646528461998\n"
     ]
    }
   ],
   "source": [
    "stacking = StackingClassifier([(estName, clone(est)) for estName, est in stack_estimators.items()], XGBClassifier(objective=\"binary:logistic\", random_state=rs))\n",
    "\n",
    "_scoring = ['f1_macro']\n",
    "\n",
    "results = cross_validate(estimator=stacking,\n",
    "                               X=data_df_features,\n",
    "                               y=data_df_class,\n",
    "                               cv=5,\n",
    "                               scoring=_scoring,\n",
    "                               return_train_score=True)\n",
    "print(np.mean(results[\"test_f1_macro\"]))\n",
    "print(np.std(results[\"test_f1_macro\"]))"
   ]
  },
  {
   "cell_type": "code",
   "execution_count": 49,
   "id": "e549f1d2",
   "metadata": {},
   "outputs": [
    {
     "name": "stdout",
     "output_type": "stream",
     "text": [
      "0.2833078522634364\n",
      "0.049414348405136324\n"
     ]
    }
   ],
   "source": [
    "stacking = StackingClassifier([(estName, clone(est)) for estName, est in stack_estimators.items()], AdaBoostClassifier(random_state = rs))\n",
    "\n",
    "_scoring = ['f1_macro']\n",
    "\n",
    "results = cross_validate(estimator=stacking,\n",
    "                               X=data_df_features,\n",
    "                               y=data_df_class,\n",
    "                               cv=5,\n",
    "                               scoring=_scoring,\n",
    "                               return_train_score=True)\n",
    "print(np.mean(results[\"test_f1_macro\"]))\n",
    "print(np.std(results[\"test_f1_macro\"]))"
   ]
  },
  {
   "cell_type": "code",
   "execution_count": 50,
   "id": "7b95cadf",
   "metadata": {},
   "outputs": [
    {
     "name": "stdout",
     "output_type": "stream",
     "text": [
      "0.4580830385722653\n",
      "0.046250148727563174\n"
     ]
    }
   ],
   "source": [
    "stacking = StackingClassifier([(estName, clone(est)) for estName, est in stack_estimators.items()], RandomForestClassifier(random_state=rs))\n",
    "\n",
    "_scoring = ['f1_macro']\n",
    "\n",
    "results = cross_validate(estimator=stacking,\n",
    "                               X=data_df_features,\n",
    "                               y=data_df_class,\n",
    "                               cv=5,\n",
    "                               scoring=_scoring,\n",
    "                               return_train_score=True)\n",
    "print(np.mean(results[\"test_f1_macro\"]))\n",
    "print(np.std(results[\"test_f1_macro\"]))"
   ]
  },
  {
   "cell_type": "code",
   "execution_count": 51,
   "id": "04a3d458",
   "metadata": {},
   "outputs": [
    {
     "name": "stdout",
     "output_type": "stream",
     "text": [
      "0.33891981463729104\n",
      "0.03832936483603022\n"
     ]
    }
   ],
   "source": [
    "stacking = StackingClassifier([(estName, clone(est)) for estName, est in stack_estimators.items()], DecisionTreeClassifier(random_state=rs))\n",
    "\n",
    "_scoring = ['f1_macro']\n",
    "\n",
    "results = cross_validate(estimator=stacking,\n",
    "                               X=data_df_features,\n",
    "                               y=data_df_class,\n",
    "                               cv=5,\n",
    "                               scoring=_scoring,\n",
    "                               return_train_score=True)\n",
    "print(np.mean(results[\"test_f1_macro\"]))\n",
    "print(np.std(results[\"test_f1_macro\"]))"
   ]
  },
  {
   "cell_type": "code",
   "execution_count": 52,
   "id": "09143f47",
   "metadata": {},
   "outputs": [
    {
     "name": "stdout",
     "output_type": "stream",
     "text": [
      "{'dt_pipeline': Pipeline(steps=[('scaler', MinMaxScaler()),\n",
      "                ('dt_pca', PCA(n_components=102, random_state=0)),\n",
      "                ('dt',\n",
      "                 DecisionTreeClassifier(criterion='entropy', max_depth=5,\n",
      "                                        min_samples_leaf=10, random_state=0))]), 'knn_pipeline': Pipeline(steps=[('scaler', MinMaxScaler()), ('adasyn', ADASYN(random_state=0)),\n",
      "                ('pca', PCA(n_components=227, random_state=0)),\n",
      "                ('knn', KNeighborsClassifier(n_neighbors=1))]), 'svm_pipeline': Pipeline(steps=[('scaler', MinMaxScaler()),\n",
      "                ('svm_pca', PCA(n_components=76, random_state=0)),\n",
      "                ('svm', SVC(C=29.763514416313132, random_state=0))]), 'rf_pipeline': Pipeline(steps=[('scaler', MinMaxScaler()), ('adasyn', ADASYN(random_state=0)),\n",
      "                ('pca', PCA(n_components=48, random_state=0)),\n",
      "                ('rf', RandomForestClassifier(max_depth=15, random_state=0))])}\n",
      "[20:05:44] WARNING: C:/Users/Administrator/workspace/xgboost-win64_release_1.5.1/src/learner.cc:1115: Starting in XGBoost 1.3.0, the default evaluation metric used with the objective 'multi:softprob' was changed from 'merror' to 'mlogloss'. Explicitly set eval_metric if you'd like to restore the old behavior.\n",
      "[20:06:16] WARNING: C:/Users/Administrator/workspace/xgboost-win64_release_1.5.1/src/learner.cc:1115: Starting in XGBoost 1.3.0, the default evaluation metric used with the objective 'multi:softprob' was changed from 'merror' to 'mlogloss'. Explicitly set eval_metric if you'd like to restore the old behavior.\n",
      "[20:06:47] WARNING: C:/Users/Administrator/workspace/xgboost-win64_release_1.5.1/src/learner.cc:1115: Starting in XGBoost 1.3.0, the default evaluation metric used with the objective 'multi:softprob' was changed from 'merror' to 'mlogloss'. Explicitly set eval_metric if you'd like to restore the old behavior.\n",
      "[20:07:19] WARNING: C:/Users/Administrator/workspace/xgboost-win64_release_1.5.1/src/learner.cc:1115: Starting in XGBoost 1.3.0, the default evaluation metric used with the objective 'multi:softprob' was changed from 'merror' to 'mlogloss'. Explicitly set eval_metric if you'd like to restore the old behavior.\n",
      "[20:07:51] WARNING: C:/Users/Administrator/workspace/xgboost-win64_release_1.5.1/src/learner.cc:1115: Starting in XGBoost 1.3.0, the default evaluation metric used with the objective 'multi:softprob' was changed from 'merror' to 'mlogloss'. Explicitly set eval_metric if you'd like to restore the old behavior.\n",
      "0.467281105222336\n",
      "0.04759708663551445\n",
      "==================================================\n",
      "0.3470748201311603\n",
      "0.06362518245131332\n",
      "==================================================\n",
      "0.4730923022295979\n",
      "0.011313186602354702\n",
      "==================================================\n",
      "0.3613836114690048\n",
      "0.04073967665385724\n"
     ]
    }
   ],
   "source": [
    "dt = DecisionTreeClassifier(criterion='entropy', max_depth=5, min_samples_leaf=10, random_state=0)\n",
    "dt_pca = PCA(n_components=102,random_state=rs)\n",
    "dt_pca_pipeline = Pipeline([('scaler',MinMaxScaler()),('dt_pca', dt_pca), ('dt', dt)])\n",
    "\n",
    "\n",
    "knn_pca_pipeline = Pipeline(steps=[('scaler',MinMaxScaler()),('adasyn', ADASYN(random_state=0)),('pca' , PCA(n_components=227,random_state=rs)),\n",
    "                ('knn',KNeighborsClassifier(n_neighbors=1))])\n",
    "\n",
    "rf_pca_pipeline = Pipeline(steps=[('scaler',MinMaxScaler()),('adasyn', ADASYN(random_state=0)),('pca',PCA(n_components=48,random_state=rs)),\n",
    "                ('rf', RandomForestClassifier(max_depth=15, random_state=0))])\n",
    "\n",
    "svm = SVC(C=29.763514416313132, random_state=0)\n",
    "svm_pca = PCA(n_components=76,random_state=rs)\n",
    "svm_pca_pipeline = Pipeline([('scaler',MinMaxScaler()),('svm_pca', svm_pca), ('svm', svm)])\n",
    "\n",
    "stack_estimators = [dt_pca_pipeline,knn_pca_pipeline,svm_pca_pipeline,rf_pca_pipeline]\n",
    "stack_estimators = {str(model)+\"_pipeline\" : estimator for estimator, model in zip(stack_estimators,[\"dt\",\"knn\",\"svm\",\"rf\"])}\n",
    "print(stack_estimators)\n",
    "\n",
    "stacking = StackingClassifier([(estName, clone(est)) for estName, est in stack_estimators.items()], XGBClassifier(objective=\"binary:logistic\", random_state=rs))\n",
    "\n",
    "_scoring = ['f1_macro']\n",
    "\n",
    "results = cross_validate(estimator=stacking,\n",
    "                               X=data_df_features,\n",
    "                               y=data_df_class,\n",
    "                               cv=5,\n",
    "                               scoring=_scoring,\n",
    "                               return_train_score=True)\n",
    "print(np.mean(results[\"test_f1_macro\"]))\n",
    "print(np.std(results[\"test_f1_macro\"]))\n",
    "\n",
    "print(\"=\"*50)\n",
    "\n",
    "stacking = StackingClassifier([(estName, clone(est)) for estName, est in stack_estimators.items()], AdaBoostClassifier(random_state = rs))\n",
    "\n",
    "_scoring = ['f1_macro']\n",
    "\n",
    "results = cross_validate(estimator=stacking,\n",
    "                               X=data_df_features,\n",
    "                               y=data_df_class,\n",
    "                               cv=5,\n",
    "                               scoring=_scoring,\n",
    "                               return_train_score=True)\n",
    "print(np.mean(results[\"test_f1_macro\"]))\n",
    "print(np.std(results[\"test_f1_macro\"]))\n",
    "\n",
    "print(\"=\"*50)\n",
    "\n",
    "stacking = StackingClassifier([(estName, clone(est)) for estName, est in stack_estimators.items()], RandomForestClassifier(random_state=rs))\n",
    "\n",
    "_scoring = ['f1_macro']\n",
    "\n",
    "results = cross_validate(estimator=stacking,\n",
    "                               X=data_df_features,\n",
    "                               y=data_df_class,\n",
    "                               cv=5,\n",
    "                               scoring=_scoring,\n",
    "                               return_train_score=True)\n",
    "print(np.mean(results[\"test_f1_macro\"]))\n",
    "print(np.std(results[\"test_f1_macro\"]))\n",
    "\n",
    "print(\"=\"*50)\n",
    "\n",
    "stacking = StackingClassifier([(estName, clone(est)) for estName, est in stack_estimators.items()], DecisionTreeClassifier(random_state=rs))\n",
    "\n",
    "_scoring = ['f1_macro']\n",
    "\n",
    "results = cross_validate(estimator=stacking,\n",
    "                               X=data_df_features,\n",
    "                               y=data_df_class,\n",
    "                               cv=5,\n",
    "                               scoring=_scoring,\n",
    "                               return_train_score=True)\n",
    "print(np.mean(results[\"test_f1_macro\"]))\n",
    "print(np.std(results[\"test_f1_macro\"]))"
   ]
  },
  {
   "cell_type": "code",
   "execution_count": 53,
   "id": "8007c9e6",
   "metadata": {},
   "outputs": [],
   "source": [
    "stacking = StackingClassifier([(estName, clone(est)) for estName, est in stack_estimators.items()], GradientBoostingClassifier(random_state = rs))\n",
    "\n",
    "_scoring = ['f1_macro']\n",
    "\n",
    "results = cross_validate(estimator=stacking,\n",
    "                               X=data_df_features,\n",
    "                               y=data_df_class,\n",
    "                               cv=5,\n",
    "                               scoring=_scoring,\n",
    "                               return_train_score=True)"
   ]
  },
  {
   "cell_type": "code",
   "execution_count": 54,
   "id": "10a6b6b2",
   "metadata": {},
   "outputs": [
    {
     "data": {
      "text/plain": [
       "{'fit_time': array([32.4416883 , 33.02466273, 38.44544244, 31.30073047, 30.77874041]),\n",
       " 'score_time': array([0.03599334, 0.07952309, 0.04198813, 0.03898811, 0.03699565]),\n",
       " 'test_f1_macro': array([0.41524016, 0.38956867, 0.44012294, 0.44846206, 0.50642534]),\n",
       " 'train_f1_macro': array([0.7864041 , 0.79807387, 0.62919394, 0.58765129, 0.68763879])}"
      ]
     },
     "execution_count": 54,
     "metadata": {},
     "output_type": "execute_result"
    }
   ],
   "source": [
    "results"
   ]
  },
  {
   "cell_type": "code",
   "execution_count": 55,
   "id": "6d47cde4",
   "metadata": {},
   "outputs": [
    {
     "name": "stdout",
     "output_type": "stream",
     "text": [
      "0.43996383343271595\n",
      "0.03909043278635177\n"
     ]
    }
   ],
   "source": [
    "print(np.mean(results[\"test_f1_macro\"]))\n",
    "print(np.std(results[\"test_f1_macro\"]))"
   ]
  },
  {
   "cell_type": "code",
   "execution_count": null,
   "id": "b66d3043",
   "metadata": {},
   "outputs": [],
   "source": []
  }
 ],
 "metadata": {
  "kernelspec": {
   "display_name": "Python 3 (ipykernel)",
   "language": "python",
   "name": "python3"
  },
  "language_info": {
   "codemirror_mode": {
    "name": "ipython",
    "version": 3
   },
   "file_extension": ".py",
   "mimetype": "text/x-python",
   "name": "python",
   "nbconvert_exporter": "python",
   "pygments_lexer": "ipython3",
   "version": "3.8.8"
  }
 },
 "nbformat": 4,
 "nbformat_minor": 5
}
